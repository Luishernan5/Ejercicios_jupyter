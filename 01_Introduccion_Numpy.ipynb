{
 "cells": [
  {
   "cell_type": "markdown",
   "id": "11747d4c",
   "metadata": {},
   "source": [
    "#Introduccion a Numpy"
   ]
  },
  {
   "cell_type": "markdown",
   "id": "2f4b9d12",
   "metadata": {},
   "source": [
    "[Numpy](https://numpy.org/doc/stable/) es una biblioteca fundamental para la conputacion cientifica con Python \n",
    "\n",
    "* Proporciona arrays N-Dimensionales.\n",
    "* Implementa funciones matematicas sofistifcadas.\n",
    "* Proporciona herramientas para integrar C/C++ y Fortan.\n",
    "* Proporciona mecanismos para facilitar la realizacion de tareas relacionadas con algebra lineal o\n",
    "numeros aleatorios."
   ]
  },
  {
   "cell_type": "markdown",
   "id": "0be808af",
   "metadata": {},
   "source": [
    "#Imports"
   ]
  },
  {
   "cell_type": "code",
   "execution_count": 57,
   "id": "e29d056a",
   "metadata": {},
   "outputs": [],
   "source": [
    "import numpy as np"
   ]
  },
  {
   "cell_type": "markdown",
   "id": "1b17feba",
   "metadata": {},
   "source": [
    "### Arrays\n",
    "\n",
    "Un **array** es una estructura de datos que consiste en una coleccion de elementos (valores o varables), cada uno identificado por almenos un indice o clave. Un array se alacena de modo que la posicion de cada elemento se pueda calcular a partir de su tupla de indice mediante su formula matematica. El tipo mas simple del array es un array lineal, tambien llamado array unidimencional."
   ]
  },
  {
   "cell_type": "markdown",
   "id": "d931ac23",
   "metadata": {},
   "source": [
    "EnNumpy: \n",
    "\n",
    "* Cada dimension se denomina **axis**.\n",
    "* El numero de dimensiones de denomia **rank**.\n",
    "* La lista de dimensiones con su correspondiente longitud se denomia **shape**.\n",
    "* El numero total de elemntos (multiplicacion de la longitud de las dimensiones se denomina **size**."
   ]
  },
  {
   "cell_type": "code",
   "execution_count": 58,
   "id": "bbd8b8a8",
   "metadata": {},
   "outputs": [],
   "source": [
    "##Array cuyos valores son todos 0\n",
    "a = np.zeros((2,4))\n"
   ]
  },
  {
   "cell_type": "code",
   "execution_count": 59,
   "id": "ac1544a1",
   "metadata": {},
   "outputs": [
    {
     "data": {
      "text/plain": [
       "array([[0., 0., 0., 0.],\n",
       "       [0., 0., 0., 0.]])"
      ]
     },
     "execution_count": 59,
     "metadata": {},
     "output_type": "execute_result"
    }
   ],
   "source": [
    "a"
   ]
  },
  {
   "cell_type": "markdown",
   "id": "a3a99cc6",
   "metadata": {},
   "source": [
    "**a** es un array: \n",
    "\n",
    "* Con dos **axis**, la primera de longitud 2 y el segundo de longitud 4.\n",
    "* Con un **rank** igual a 2.\n",
    "* Con un **sahape** igual de (2,4).\n",
    "* Con un **size** igual a 8."
   ]
  },
  {
   "cell_type": "code",
   "execution_count": 60,
   "id": "a2468a86",
   "metadata": {},
   "outputs": [
    {
     "data": {
      "text/plain": [
       "(2, 4)"
      ]
     },
     "execution_count": 60,
     "metadata": {},
     "output_type": "execute_result"
    }
   ],
   "source": [
    "a.shape"
   ]
  },
  {
   "cell_type": "code",
   "execution_count": 61,
   "id": "82fba0a6",
   "metadata": {},
   "outputs": [
    {
     "data": {
      "text/plain": [
       "8"
      ]
     },
     "execution_count": 61,
     "metadata": {},
     "output_type": "execute_result"
    }
   ],
   "source": [
    "a.size"
   ]
  },
  {
   "cell_type": "markdown",
   "id": "8d4fd7a8",
   "metadata": {},
   "source": [
    "### Creacion de Arrays\n"
   ]
  },
  {
   "cell_type": "code",
   "execution_count": 62,
   "id": "720c1b70",
   "metadata": {},
   "outputs": [
    {
     "data": {
      "text/plain": [
       "array([[[0., 0., 0., 0.],\n",
       "        [0., 0., 0., 0.],\n",
       "        [0., 0., 0., 0.]],\n",
       "\n",
       "       [[0., 0., 0., 0.],\n",
       "        [0., 0., 0., 0.],\n",
       "        [0., 0., 0., 0.]]])"
      ]
     },
     "execution_count": 62,
     "metadata": {},
     "output_type": "execute_result"
    }
   ],
   "source": [
    "#Arrays cuyos valores son todos 0\n",
    "np.zeros((2, 3, 4)) # dimensione, filas, columnas"
   ]
  },
  {
   "cell_type": "code",
   "execution_count": 63,
   "id": "8d623702",
   "metadata": {},
   "outputs": [
    {
     "data": {
      "text/plain": [
       "array([[[1., 1., 1., 1.],\n",
       "        [1., 1., 1., 1.],\n",
       "        [1., 1., 1., 1.]],\n",
       "\n",
       "       [[1., 1., 1., 1.],\n",
       "        [1., 1., 1., 1.],\n",
       "        [1., 1., 1., 1.]]])"
      ]
     },
     "execution_count": 63,
     "metadata": {},
     "output_type": "execute_result"
    }
   ],
   "source": [
    "# Array cuyos valores son todos 1\n",
    "np.ones((2, 3, 4)) "
   ]
  },
  {
   "cell_type": "code",
   "execution_count": 64,
   "id": "cdc9fa53",
   "metadata": {},
   "outputs": [
    {
     "data": {
      "text/plain": [
       "array([[[8, 8, 8, 8],\n",
       "        [8, 8, 8, 8],\n",
       "        [8, 8, 8, 8]],\n",
       "\n",
       "       [[8, 8, 8, 8],\n",
       "        [8, 8, 8, 8],\n",
       "        [8, 8, 8, 8]]])"
      ]
     },
     "execution_count": 64,
     "metadata": {},
     "output_type": "execute_result"
    }
   ],
   "source": [
    "# Array cuyos valores son todos el valor indiado como segundo parametro de la funcion \n",
    "\n",
    "np.full((2, 3, 4), 8)"
   ]
  },
  {
   "cell_type": "code",
   "execution_count": 65,
   "id": "6df72693",
   "metadata": {},
   "outputs": [
    {
     "data": {
      "text/plain": [
       "array([[[1., 1., 1., 1.],\n",
       "        [1., 1., 1., 1.],\n",
       "        [1., 1., 1., 1.]],\n",
       "\n",
       "       [[1., 1., 1., 1.],\n",
       "        [1., 1., 1., 1.],\n",
       "        [1., 1., 1., 1.]]])"
      ]
     },
     "execution_count": 65,
     "metadata": {},
     "output_type": "execute_result"
    }
   ],
   "source": [
    "# El resultado de np.empy no es predecible \n",
    "# Inicializa los valores del array con lo que hay en memoria en ese momento \n",
    "np.empty((2, 3, 4))"
   ]
  },
  {
   "cell_type": "code",
   "execution_count": 66,
   "id": "5285274d",
   "metadata": {},
   "outputs": [
    {
     "data": {
      "text/plain": [
       "array([[1, 2, 3],\n",
       "       [4, 5, 6]])"
      ]
     },
     "execution_count": 66,
     "metadata": {},
     "output_type": "execute_result"
    }
   ],
   "source": [
    "# Inicializar un array con un array de Python\n",
    "b = np.array([[1, 2, 3], [4, 5, 6]])\n",
    "b"
   ]
  },
  {
   "cell_type": "code",
   "execution_count": 67,
   "id": "7aa140e6",
   "metadata": {},
   "outputs": [
    {
     "data": {
      "text/plain": [
       "(2, 3)"
      ]
     },
     "execution_count": 67,
     "metadata": {},
     "output_type": "execute_result"
    }
   ],
   "source": [
    "b.shape"
   ]
  },
  {
   "cell_type": "code",
   "execution_count": 68,
   "id": "57e7bf4a",
   "metadata": {},
   "outputs": [
    {
     "name": "stdout",
     "output_type": "stream",
     "text": [
      "[0.         0.66666667 1.33333333 2.         2.66666667 3.33333333\n",
      " 4.         4.66666667 5.33333333 6.        ]\n"
     ]
    }
   ],
   "source": [
    "# Crear un array utilizando una funcion basada en rangos\n",
    "# (min, max, num de elementos)\n",
    "print(np.linspace(0, 6, 10))"
   ]
  },
  {
   "cell_type": "code",
   "execution_count": 69,
   "id": "8fd26e82",
   "metadata": {},
   "outputs": [
    {
     "data": {
      "text/plain": [
       "array([[[0.92358836, 0.21115814, 0.95397683, 0.2437945 ],\n",
       "        [0.77072823, 0.07371524, 0.3431889 , 0.59970587],\n",
       "        [0.02924297, 0.77132926, 0.70563529, 0.42844534]],\n",
       "\n",
       "       [[0.99177656, 0.94626952, 0.48189891, 0.03242871],\n",
       "        [0.68440864, 0.18910397, 0.78872568, 0.55980118],\n",
       "        [0.0551558 , 0.69886761, 0.23956024, 0.31819695]]])"
      ]
     },
     "execution_count": 69,
     "metadata": {},
     "output_type": "execute_result"
    }
   ],
   "source": [
    "# Inicializar un Array con valores aleatorios.\n",
    "np.random.rand(2, 3, 4)"
   ]
  },
  {
   "cell_type": "code",
   "execution_count": 70,
   "id": "6bdd1275",
   "metadata": {},
   "outputs": [
    {
     "data": {
      "text/plain": [
       "array([[-0.54507158,  1.36757341,  0.03338107, -0.11000478],\n",
       "       [ 0.05478363,  0.48525702, -1.04913739,  0.64277163]])"
      ]
     },
     "execution_count": 70,
     "metadata": {},
     "output_type": "execute_result"
    }
   ],
   "source": [
    "# Inicializar un array con valores aleatorios conforme a una \n",
    "# Distribucion normal \n",
    "np.random.randn(2, 4)"
   ]
  },
  {
   "cell_type": "code",
   "execution_count": 71,
   "id": "f46d090a",
   "metadata": {},
   "outputs": [
    {
     "data": {
      "image/png": "[encoded data removed]",
      "text/plain": [
       "<Figure size 640x480 with 1 Axes>"
      ]
     },
     "metadata": {},
     "output_type": "display_data"
    }
   ],
   "source": [
    "%matplotlib inline \n",
    "import matplotlib.pyplot as plt\n",
    "\n",
    "c = np.random.randn(100000)\n",
    "\n",
    "plt.hist(c, bins= 500)\n",
    "plt.show()"
   ]
  },
  {
   "cell_type": "code",
   "execution_count": 72,
   "id": "81662b1e",
   "metadata": {},
   "outputs": [
    {
     "data": {
      "text/plain": [
       "array([[ 0.,  2.,  4.,  6.,  8.],\n",
       "       [ 1.,  3.,  5.,  7.,  9.],\n",
       "       [ 2.,  4.,  6.,  8., 10.]])"
      ]
     },
     "execution_count": 72,
     "metadata": {},
     "output_type": "execute_result"
    }
   ],
   "source": [
    "# Inicializar un array utilizando una funcion personalizada\n",
    "\n",
    "def func(X, y):\n",
    "    return X + 2 * y\n",
    "\n",
    "np.fromfunction(func, (3, 5))"
   ]
  },
  {
   "cell_type": "markdown",
   "id": "e8ffe75b",
   "metadata": {},
   "source": [
    "### Acceso a los elemntos de un Array"
   ]
  },
  {
   "cell_type": "markdown",
   "id": "68d1b363",
   "metadata": {},
   "source": [
    " Array Unidimensional"
   ]
  },
  {
   "cell_type": "code",
   "execution_count": 73,
   "id": "ae0815b7",
   "metadata": {},
   "outputs": [
    {
     "name": "stdout",
     "output_type": "stream",
     "text": [
      "Shape:  (6,)\n",
      "Array_uni:  [ 1  3  5  7  9 11]\n"
     ]
    }
   ],
   "source": [
    "#Crear un arrar Unidimensional \n",
    "array_uni = np.array([1, 3, 5, 7, 9, 11])\n",
    "print(\"Shape: \", array_uni.shape)\n",
    "print(\"Array_uni: \", array_uni)"
   ]
  },
  {
   "cell_type": "code",
   "execution_count": 74,
   "id": "e47fb618",
   "metadata": {},
   "outputs": [
    {
     "data": {
      "text/plain": [
       "np.int64(9)"
      ]
     },
     "execution_count": 74,
     "metadata": {},
     "output_type": "execute_result"
    }
   ],
   "source": [
    "# Acceder al quinto elemnto del array \n",
    "array_uni[4]"
   ]
  },
  {
   "cell_type": "code",
   "execution_count": 75,
   "id": "5ba5ed42",
   "metadata": {},
   "outputs": [
    {
     "data": {
      "text/plain": [
       "array([5, 7])"
      ]
     },
     "execution_count": 75,
     "metadata": {},
     "output_type": "execute_result"
    }
   ],
   "source": [
    "# Acceder al tercer y cuarto elemento del array\n",
    "array_uni[2: 4]"
   ]
  },
  {
   "cell_type": "code",
   "execution_count": 76,
   "id": "2a6ee982",
   "metadata": {},
   "outputs": [
    {
     "data": {
      "text/plain": [
       "array([ 1,  7, 11])"
      ]
     },
     "execution_count": 76,
     "metadata": {},
     "output_type": "execute_result"
    }
   ],
   "source": [
    "# Acceder al elemento 0, 3, y 5 del Array\n",
    "\n",
    "array_uni[[0, 3, 5]]"
   ]
  },
  {
   "cell_type": "markdown",
   "id": "b039fffe",
   "metadata": {},
   "source": [
    "#### Array Multidimensional"
   ]
  },
  {
   "cell_type": "code",
   "execution_count": 77,
   "id": "e831e325",
   "metadata": {},
   "outputs": [
    {
     "name": "stdout",
     "output_type": "stream",
     "text": [
      "Shape:  (2, 4)\n",
      "Array_multi: \n",
      " [[1 2 3 4]\n",
      " [5 6 7 8]]\n"
     ]
    }
   ],
   "source": [
    "# Crear un Array multidimensional \n",
    "array_multi = np.array([[1, 2, 3, 4], [5, 6, 7, 8]])\n",
    "print(\"Shape: \", array_multi.shape)\n",
    "print(\"Array_multi: \\n\", array_multi)"
   ]
  },
  {
   "cell_type": "markdown",
   "id": "81520939",
   "metadata": {},
   "source": []
  },
  {
   "cell_type": "code",
   "execution_count": 78,
   "id": "ce8de4c9",
   "metadata": {},
   "outputs": [
    {
     "data": {
      "text/plain": [
       "np.int64(4)"
      ]
     },
     "execution_count": 78,
     "metadata": {},
     "output_type": "execute_result"
    }
   ],
   "source": [
    "# Acceder al cuarto elemento del Array\n",
    "array_multi[0, 3]"
   ]
  },
  {
   "cell_type": "code",
   "execution_count": 79,
   "id": "d763cf2d",
   "metadata": {},
   "outputs": [
    {
     "data": {
      "text/plain": [
       "array([5, 6, 7, 8])"
      ]
     },
     "execution_count": 79,
     "metadata": {},
     "output_type": "execute_result"
    }
   ],
   "source": [
    "# Acceder a la segunda fila del Array\n",
    "array_multi[1, :]"
   ]
  },
  {
   "cell_type": "code",
   "execution_count": 80,
   "id": "63a7f90e",
   "metadata": {},
   "outputs": [
    {
     "data": {
      "text/plain": [
       "array([3, 7])"
      ]
     },
     "execution_count": 80,
     "metadata": {},
     "output_type": "execute_result"
    }
   ],
   "source": [
    "# Acceder al tercer elemento de las dos primeras filas del array \n",
    "array_multi[0: 2, 2]"
   ]
  },
  {
   "cell_type": "markdown",
   "id": "d46b7b6d",
   "metadata": {},
   "source": [
    "# Modificar un Array"
   ]
  },
  {
   "cell_type": "code",
   "execution_count": 81,
   "id": "cf7f16b8",
   "metadata": {},
   "outputs": [
    {
     "name": "stdout",
     "output_type": "stream",
     "text": [
      "Shape (28,)\n",
      "Array 1: \n",
      " [ 0  1  2  3  4  5  6  7  8  9 10 11 12 13 14 15 16 17 18 19 20 21 22 23\n",
      " 24 25 26 27]\n"
     ]
    }
   ],
   "source": [
    "# Crear un Array unidimensional e inicializarlo con el rango de elemntos de 0 - 27\n",
    "array1 = np.arange(28)\n",
    "print(\"Shape\", array1.shape)\n",
    "print (\"Array 1: \\n\", array1)"
   ]
  },
  {
   "cell_type": "code",
   "execution_count": 82,
   "id": "a2cf517e",
   "metadata": {},
   "outputs": [
    {
     "name": "stdout",
     "output_type": "stream",
     "text": [
      "Shape (7, 4)\n",
      "Array 1: \n",
      " [[ 0  1  2  3]\n",
      " [ 4  5  6  7]\n",
      " [ 8  9 10 11]\n",
      " [12 13 14 15]\n",
      " [16 17 18 19]\n",
      " [20 21 22 23]\n",
      " [24 25 26 27]]\n"
     ]
    }
   ],
   "source": [
    "# Cambiar las dimensiones del Array y sus longitudes \n",
    "array1.shape= (7, 4)\n",
    "print(\"Shape\", array1.shape)\n",
    "print (\"Array 1: \\n\", array1)"
   ]
  },
  {
   "cell_type": "code",
   "execution_count": 83,
   "id": "ab3d72d8",
   "metadata": {},
   "outputs": [
    {
     "name": "stdout",
     "output_type": "stream",
     "text": [
      "Shape (4, 7)\n",
      "Array 2: \n",
      " [[ 0  1  2  3  4  5  6]\n",
      " [ 7  8  9 10 11 12 13]\n",
      " [14 15 16 17 18 19 20]\n",
      " [21 22 23 24 25 26 27]]\n",
      "Array 1: \n",
      " [[ 0  1  2  3]\n",
      " [ 4  5  6  7]\n",
      " [ 8  9 10 11]\n",
      " [12 13 14 15]\n",
      " [16 17 18 19]\n",
      " [20 21 22 23]\n",
      " [24 25 26 27]]\n"
     ]
    }
   ],
   "source": [
    "# El ejemplo anterior devuelve un nuevo array que apunta a los mismos datos\n",
    "# Nota: Las modificaciones de un Array, modifican el otro array\n",
    "\n",
    "array2 = array1.reshape(4, 7)\n",
    "print(\"Shape\", array2.shape)\n",
    "print (\"Array 2: \\n\", array2)\n",
    "print (\"Array 1: \\n\", array1)"
   ]
  },
  {
   "cell_type": "code",
   "execution_count": 84,
   "id": "d2611ba9",
   "metadata": {},
   "outputs": [
    {
     "name": "stdout",
     "output_type": "stream",
     "text": [
      "Array 1: \n",
      " [[ 0  1  2 20]\n",
      " [ 4  5  6  7]\n",
      " [ 8  9 10 11]\n",
      " [12 13 14 15]\n",
      " [16 17 18 19]\n",
      " [20 21 22 23]\n",
      " [24 25 26 27]]\n",
      "Array 2: \n",
      " [[ 0  1  2 20  4  5  6]\n",
      " [ 7  8  9 10 11 12 13]\n",
      " [14 15 16 17 18 19 20]\n",
      " [21 22 23 24 25 26 27]]\n"
     ]
    }
   ],
   "source": [
    "# Modificar el array devuelto \n",
    "array2[0, 3] = 20\n",
    "print(\"Array 1: \\n\", array1)\n",
    "print (\"Array 2: \\n\", array2)"
   ]
  },
  {
   "cell_type": "code",
   "execution_count": 85,
   "id": "e7d02f99",
   "metadata": {},
   "outputs": [
    {
     "name": "stdout",
     "output_type": "stream",
     "text": [
      "Array 1:  [ 0  1  2 20  4  5  6  7  8  9 10 11 12 13 14 15 16 17 18 19 20 21 22 23\n",
      " 24 25 26 27]\n"
     ]
    }
   ],
   "source": [
    "# regresar el array, devolviendo un nuevo Array de una sola dimensión \n",
    "# Nota el nuevo array apunta a los mismos datos\n",
    "print(\"Array 1: \", array1.ravel())"
   ]
  },
  {
   "cell_type": "markdown",
   "id": "c030baac",
   "metadata": {},
   "source": [
    "#### Operaciones Aritmeticas con Arrays "
   ]
  },
  {
   "cell_type": "markdown",
   "id": "b97eab77",
   "metadata": {},
   "source": []
  }
 ],
 "metadata": {
  "kernelspec": {
   "display_name": "Python (jupyter-env)",
   "language": "python",
   "name": "jupyter-env"
  },
  "language_info": {
   "codemirror_mode": {
    "name": "ipython",
    "version": 3
   },
   "file_extension": ".py",
   "mimetype": "text/x-python",
   "name": "python",
   "nbconvert_exporter": "python",
   "pygments_lexer": "ipython3",
   "version": "3.12.3"
  }
 },
 "nbformat": 4,
 "nbformat_minor": 5
}
